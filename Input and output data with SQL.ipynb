{
 "cells": [
  {
   "cell_type": "markdown",
   "id": "da3e01ea",
   "metadata": {},
   "source": [
    "Pandas can read and write to various SQL engines through the use of a driver and the sqlalchemy python library."
   ]
  },
  {
   "cell_type": "markdown",
   "id": "1f5db651",
   "metadata": {},
   "source": [
    "# How can we connect with the SQL database using python \n",
    "Step 1:\n",
    " Figure out what SQL Engine you are connecting to, for just a few examples:\n",
    "     PostgreSQL\n",
    "     MySQL\n",
    "     MS SQL Server"
   ]
  },
  {
   "cell_type": "markdown",
   "id": "d29eca63",
   "metadata": {},
   "source": [
    "Step 2: \n",
    "    Install the appropriate Python driver library "
   ]
  },
  {
   "cell_type": "markdown",
   "id": "1cf778d7",
   "metadata": {},
   "source": [
    "For PostgreSQL - psycopg2"
   ]
  },
  {
   "cell_type": "markdown",
   "id": "964760da",
   "metadata": {},
   "source": [
    "For MySQL - pymysql"
   ]
  },
  {
   "cell_type": "markdown",
   "id": "b26ef07a",
   "metadata": {},
   "source": [
    "Foe MS SQL Server - pyodbc"
   ]
  },
  {
   "cell_type": "markdown",
   "id": "b23be0a4",
   "metadata": {},
   "source": [
    "Step 3:  Use the sqlalchemy library to connect your SQL database with the driver"
   ]
  },
  {
   "cell_type": "markdown",
   "id": "33e56fff",
   "metadata": {},
   "source": [
    "Step 4: Use the sqlalchemy driver connection with pandas read_sql method.\n",
    "    Pandas can read in entire tables as a DataFrame or actual parse a SQL query through the connection:\n",
    "    SELECT*FROM table;"
   ]
  },
  {
   "cell_type": "code",
   "execution_count": 3,
   "id": "d572c0ba",
   "metadata": {},
   "outputs": [],
   "source": [
    "import pandas as pd \n",
    "import numpy as np"
   ]
  },
  {
   "cell_type": "code",
   "execution_count": 4,
   "id": "f523a545",
   "metadata": {},
   "outputs": [],
   "source": [
    "from sqlalchemy import create_engine"
   ]
  },
  {
   "cell_type": "code",
   "execution_count": 5,
   "id": "e726a424",
   "metadata": {},
   "outputs": [],
   "source": [
    "temp_db = create_engine('sqlite:///:memory:')"
   ]
  },
  {
   "cell_type": "code",
   "execution_count": 22,
   "id": "0a2518ed",
   "metadata": {},
   "outputs": [],
   "source": [
    "df=pd.DataFrame(data=np.random.randint(0,100,(4,4)),columns=['a','b','c','d'])"
   ]
  },
  {
   "cell_type": "code",
   "execution_count": 23,
   "id": "d3f02268",
   "metadata": {},
   "outputs": [
    {
     "data": {
      "text/html": [
       "<div>\n",
       "<style scoped>\n",
       "    .dataframe tbody tr th:only-of-type {\n",
       "        vertical-align: middle;\n",
       "    }\n",
       "\n",
       "    .dataframe tbody tr th {\n",
       "        vertical-align: top;\n",
       "    }\n",
       "\n",
       "    .dataframe thead th {\n",
       "        text-align: right;\n",
       "    }\n",
       "</style>\n",
       "<table border=\"1\" class=\"dataframe\">\n",
       "  <thead>\n",
       "    <tr style=\"text-align: right;\">\n",
       "      <th></th>\n",
       "      <th>a</th>\n",
       "      <th>b</th>\n",
       "      <th>c</th>\n",
       "      <th>d</th>\n",
       "    </tr>\n",
       "  </thead>\n",
       "  <tbody>\n",
       "    <tr>\n",
       "      <th>0</th>\n",
       "      <td>98</td>\n",
       "      <td>59</td>\n",
       "      <td>37</td>\n",
       "      <td>71</td>\n",
       "    </tr>\n",
       "    <tr>\n",
       "      <th>1</th>\n",
       "      <td>73</td>\n",
       "      <td>7</td>\n",
       "      <td>33</td>\n",
       "      <td>54</td>\n",
       "    </tr>\n",
       "    <tr>\n",
       "      <th>2</th>\n",
       "      <td>31</td>\n",
       "      <td>7</td>\n",
       "      <td>83</td>\n",
       "      <td>12</td>\n",
       "    </tr>\n",
       "    <tr>\n",
       "      <th>3</th>\n",
       "      <td>27</td>\n",
       "      <td>49</td>\n",
       "      <td>42</td>\n",
       "      <td>19</td>\n",
       "    </tr>\n",
       "  </tbody>\n",
       "</table>\n",
       "</div>"
      ],
      "text/plain": [
       "    a   b   c   d\n",
       "0  98  59  37  71\n",
       "1  73   7  33  54\n",
       "2  31   7  83  12\n",
       "3  27  49  42  19"
      ]
     },
     "execution_count": 23,
     "metadata": {},
     "output_type": "execute_result"
    }
   ],
   "source": [
    "df"
   ]
  },
  {
   "cell_type": "code",
   "execution_count": 24,
   "id": "540d2a4b",
   "metadata": {},
   "outputs": [],
   "source": [
    "df.to_sql('new_table1', temp_db)"
   ]
  },
  {
   "cell_type": "code",
   "execution_count": 25,
   "id": "a2d821ce",
   "metadata": {},
   "outputs": [],
   "source": [
    "new_df=pd.read_sql('new_table1',temp_db )"
   ]
  },
  {
   "cell_type": "code",
   "execution_count": 26,
   "id": "8c5b45c0",
   "metadata": {},
   "outputs": [
    {
     "data": {
      "text/html": [
       "<div>\n",
       "<style scoped>\n",
       "    .dataframe tbody tr th:only-of-type {\n",
       "        vertical-align: middle;\n",
       "    }\n",
       "\n",
       "    .dataframe tbody tr th {\n",
       "        vertical-align: top;\n",
       "    }\n",
       "\n",
       "    .dataframe thead th {\n",
       "        text-align: right;\n",
       "    }\n",
       "</style>\n",
       "<table border=\"1\" class=\"dataframe\">\n",
       "  <thead>\n",
       "    <tr style=\"text-align: right;\">\n",
       "      <th></th>\n",
       "      <th>index</th>\n",
       "      <th>a</th>\n",
       "      <th>b</th>\n",
       "      <th>c</th>\n",
       "      <th>d</th>\n",
       "    </tr>\n",
       "  </thead>\n",
       "  <tbody>\n",
       "    <tr>\n",
       "      <th>0</th>\n",
       "      <td>0</td>\n",
       "      <td>98</td>\n",
       "      <td>59</td>\n",
       "      <td>37</td>\n",
       "      <td>71</td>\n",
       "    </tr>\n",
       "    <tr>\n",
       "      <th>1</th>\n",
       "      <td>1</td>\n",
       "      <td>73</td>\n",
       "      <td>7</td>\n",
       "      <td>33</td>\n",
       "      <td>54</td>\n",
       "    </tr>\n",
       "    <tr>\n",
       "      <th>2</th>\n",
       "      <td>2</td>\n",
       "      <td>31</td>\n",
       "      <td>7</td>\n",
       "      <td>83</td>\n",
       "      <td>12</td>\n",
       "    </tr>\n",
       "    <tr>\n",
       "      <th>3</th>\n",
       "      <td>3</td>\n",
       "      <td>27</td>\n",
       "      <td>49</td>\n",
       "      <td>42</td>\n",
       "      <td>19</td>\n",
       "    </tr>\n",
       "  </tbody>\n",
       "</table>\n",
       "</div>"
      ],
      "text/plain": [
       "   index   a   b   c   d\n",
       "0      0  98  59  37  71\n",
       "1      1  73   7  33  54\n",
       "2      2  31   7  83  12\n",
       "3      3  27  49  42  19"
      ]
     },
     "execution_count": 26,
     "metadata": {},
     "output_type": "execute_result"
    }
   ],
   "source": [
    "new_df"
   ]
  },
  {
   "cell_type": "code",
   "execution_count": 28,
   "id": "90884f85",
   "metadata": {},
   "outputs": [],
   "source": [
    "query_df=pd.read_sql_query(\"SELECT a,c FROM new_table1\",temp_db)"
   ]
  },
  {
   "cell_type": "code",
   "execution_count": 29,
   "id": "687896ca",
   "metadata": {},
   "outputs": [
    {
     "data": {
      "text/html": [
       "<div>\n",
       "<style scoped>\n",
       "    .dataframe tbody tr th:only-of-type {\n",
       "        vertical-align: middle;\n",
       "    }\n",
       "\n",
       "    .dataframe tbody tr th {\n",
       "        vertical-align: top;\n",
       "    }\n",
       "\n",
       "    .dataframe thead th {\n",
       "        text-align: right;\n",
       "    }\n",
       "</style>\n",
       "<table border=\"1\" class=\"dataframe\">\n",
       "  <thead>\n",
       "    <tr style=\"text-align: right;\">\n",
       "      <th></th>\n",
       "      <th>a</th>\n",
       "      <th>c</th>\n",
       "    </tr>\n",
       "  </thead>\n",
       "  <tbody>\n",
       "    <tr>\n",
       "      <th>0</th>\n",
       "      <td>98</td>\n",
       "      <td>37</td>\n",
       "    </tr>\n",
       "    <tr>\n",
       "      <th>1</th>\n",
       "      <td>73</td>\n",
       "      <td>33</td>\n",
       "    </tr>\n",
       "    <tr>\n",
       "      <th>2</th>\n",
       "      <td>31</td>\n",
       "      <td>83</td>\n",
       "    </tr>\n",
       "    <tr>\n",
       "      <th>3</th>\n",
       "      <td>27</td>\n",
       "      <td>42</td>\n",
       "    </tr>\n",
       "  </tbody>\n",
       "</table>\n",
       "</div>"
      ],
      "text/plain": [
       "    a   c\n",
       "0  98  37\n",
       "1  73  33\n",
       "2  31  83\n",
       "3  27  42"
      ]
     },
     "execution_count": 29,
     "metadata": {},
     "output_type": "execute_result"
    }
   ],
   "source": [
    "query_df"
   ]
  },
  {
   "cell_type": "code",
   "execution_count": null,
   "id": "2e6ce0cf",
   "metadata": {},
   "outputs": [],
   "source": []
  }
 ],
 "metadata": {
  "kernelspec": {
   "display_name": "Python 3 (ipykernel)",
   "language": "python",
   "name": "python3"
  },
  "language_info": {
   "codemirror_mode": {
    "name": "ipython",
    "version": 3
   },
   "file_extension": ".py",
   "mimetype": "text/x-python",
   "name": "python",
   "nbconvert_exporter": "python",
   "pygments_lexer": "ipython3",
   "version": "3.9.7"
  }
 },
 "nbformat": 4,
 "nbformat_minor": 5
}
