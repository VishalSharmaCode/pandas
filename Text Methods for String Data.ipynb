{
 "cells": [
  {
   "cell_type": "markdown",
   "id": "ead97c8b",
   "metadata": {},
   "source": [
    "# Text Methods"
   ]
  },
  {
   "cell_type": "markdown",
   "id": "db5f530d",
   "metadata": {},
   "source": [
    "Often text data needs to be cleaned or manipulated for processing "
   ]
  },
  {
   "cell_type": "markdown",
   "id": "c5b25afa",
   "metadata": {},
   "source": [
    "While we can always use a custom apply() function for these tasks, pandas comes with many built-in string methados calls."
   ]
  },
  {
   "cell_type": "code",
   "execution_count": 1,
   "id": "a087f232",
   "metadata": {},
   "outputs": [],
   "source": [
    "import numpy as np\n",
    "import pandas as pd"
   ]
  },
  {
   "cell_type": "code",
   "execution_count": 2,
   "id": "8be43aa9",
   "metadata": {},
   "outputs": [],
   "source": [
    "email='vishalsharma@email.com'"
   ]
  },
  {
   "cell_type": "code",
   "execution_count": 3,
   "id": "ec88c9ea",
   "metadata": {},
   "outputs": [
    {
     "data": {
      "text/plain": [
       "['vishalsharma', 'email.com']"
      ]
     },
     "execution_count": 3,
     "metadata": {},
     "output_type": "execute_result"
    }
   ],
   "source": [
    "email.split('@')"
   ]
  },
  {
   "cell_type": "code",
   "execution_count": 4,
   "id": "8ccf89cb",
   "metadata": {},
   "outputs": [],
   "source": [
    "name=pd.Series(['Vishal','Sharma','Vishant','Sharmaji','7'])"
   ]
  },
  {
   "cell_type": "code",
   "execution_count": 5,
   "id": "12094990",
   "metadata": {},
   "outputs": [
    {
     "data": {
      "text/plain": [
       "0      Vishal\n",
       "1      Sharma\n",
       "2     Vishant\n",
       "3    Sharmaji\n",
       "4           7\n",
       "dtype: object"
      ]
     },
     "execution_count": 5,
     "metadata": {},
     "output_type": "execute_result"
    }
   ],
   "source": [
    "name"
   ]
  },
  {
   "cell_type": "code",
   "execution_count": 6,
   "id": "84ab0ebf",
   "metadata": {},
   "outputs": [
    {
     "data": {
      "text/plain": [
       "0      VISHAL\n",
       "1      SHARMA\n",
       "2     VISHANT\n",
       "3    SHARMAJI\n",
       "4           7\n",
       "dtype: object"
      ]
     },
     "execution_count": 6,
     "metadata": {},
     "output_type": "execute_result"
    }
   ],
   "source": [
    "name.str.upper()"
   ]
  },
  {
   "cell_type": "code",
   "execution_count": 7,
   "id": "a4c659d7",
   "metadata": {},
   "outputs": [
    {
     "data": {
      "text/plain": [
       "0    False\n",
       "1    False\n",
       "2    False\n",
       "3    False\n",
       "4     True\n",
       "dtype: bool"
      ]
     },
     "execution_count": 7,
     "metadata": {},
     "output_type": "execute_result"
    }
   ],
   "source": [
    "name.str.isdigit()"
   ]
  },
  {
   "cell_type": "code",
   "execution_count": 8,
   "id": "59efacca",
   "metadata": {},
   "outputs": [],
   "source": [
    "seprate_the_string=['GOOG,APPL,AMZN','JPM,BAC,GS']"
   ]
  },
  {
   "cell_type": "code",
   "execution_count": 9,
   "id": "40942897",
   "metadata": {},
   "outputs": [
    {
     "data": {
      "text/plain": [
       "2"
      ]
     },
     "execution_count": 9,
     "metadata": {},
     "output_type": "execute_result"
    }
   ],
   "source": [
    "len(seprate_the_string)"
   ]
  },
  {
   "cell_type": "code",
   "execution_count": 10,
   "id": "fd45d5dd",
   "metadata": {},
   "outputs": [],
   "source": [
    "tikers=pd.Series(seprate_the_string)"
   ]
  },
  {
   "cell_type": "code",
   "execution_count": 11,
   "id": "ca4d14e9",
   "metadata": {},
   "outputs": [
    {
     "data": {
      "text/plain": [
       "0    GOOG,APPL,AMZN\n",
       "1        JPM,BAC,GS\n",
       "dtype: object"
      ]
     },
     "execution_count": 11,
     "metadata": {},
     "output_type": "execute_result"
    }
   ],
   "source": [
    "tikers"
   ]
  },
  {
   "cell_type": "code",
   "execution_count": 12,
   "id": "05640223",
   "metadata": {},
   "outputs": [
    {
     "data": {
      "text/plain": [
       "0    [GOOG, APPL, AMZN]\n",
       "1        [JPM, BAC, GS]\n",
       "dtype: object"
      ]
     },
     "execution_count": 12,
     "metadata": {},
     "output_type": "execute_result"
    }
   ],
   "source": [
    "tikers.str.split(',')"
   ]
  },
  {
   "cell_type": "code",
   "execution_count": 13,
   "id": "1b9468f8",
   "metadata": {},
   "outputs": [],
   "source": [
    "xx=tikers.str.split(',')"
   ]
  },
  {
   "cell_type": "code",
   "execution_count": 14,
   "id": "e4ad12ba",
   "metadata": {},
   "outputs": [
    {
     "data": {
      "text/plain": [
       "['GOOG', 'APPL', 'AMZN']"
      ]
     },
     "execution_count": 14,
     "metadata": {},
     "output_type": "execute_result"
    }
   ],
   "source": [
    "xx[0]"
   ]
  },
  {
   "cell_type": "code",
   "execution_count": 15,
   "id": "d7dc3a30",
   "metadata": {},
   "outputs": [
    {
     "data": {
      "text/html": [
       "<div>\n",
       "<style scoped>\n",
       "    .dataframe tbody tr th:only-of-type {\n",
       "        vertical-align: middle;\n",
       "    }\n",
       "\n",
       "    .dataframe tbody tr th {\n",
       "        vertical-align: top;\n",
       "    }\n",
       "\n",
       "    .dataframe thead th {\n",
       "        text-align: right;\n",
       "    }\n",
       "</style>\n",
       "<table border=\"1\" class=\"dataframe\">\n",
       "  <thead>\n",
       "    <tr style=\"text-align: right;\">\n",
       "      <th></th>\n",
       "      <th>0</th>\n",
       "      <th>1</th>\n",
       "      <th>2</th>\n",
       "    </tr>\n",
       "  </thead>\n",
       "  <tbody>\n",
       "    <tr>\n",
       "      <th>0</th>\n",
       "      <td>GOOG</td>\n",
       "      <td>APPL</td>\n",
       "      <td>AMZN</td>\n",
       "    </tr>\n",
       "    <tr>\n",
       "      <th>1</th>\n",
       "      <td>JPM</td>\n",
       "      <td>BAC</td>\n",
       "      <td>GS</td>\n",
       "    </tr>\n",
       "  </tbody>\n",
       "</table>\n",
       "</div>"
      ],
      "text/plain": [
       "      0     1     2\n",
       "0  GOOG  APPL  AMZN\n",
       "1   JPM   BAC    GS"
      ]
     },
     "execution_count": 15,
     "metadata": {},
     "output_type": "execute_result"
    }
   ],
   "source": [
    "tikers.str.split(',', expand=True)"
   ]
  },
  {
   "cell_type": "code",
   "execution_count": 19,
   "id": "a30baed2",
   "metadata": {},
   "outputs": [],
   "source": [
    "any_ser=pd.Series(['aplle   ','ban;ana',' pinapple  '])"
   ]
  },
  {
   "cell_type": "code",
   "execution_count": 20,
   "id": "26a6769e",
   "metadata": {},
   "outputs": [
    {
     "data": {
      "text/plain": [
       "0       aplle   \n",
       "1        ban;ana\n",
       "2     pinapple  \n",
       "dtype: object"
      ]
     },
     "execution_count": 20,
     "metadata": {},
     "output_type": "execute_result"
    }
   ],
   "source": [
    "any_ser"
   ]
  },
  {
   "cell_type": "code",
   "execution_count": 22,
   "id": "09555b89",
   "metadata": {},
   "outputs": [
    {
     "data": {
      "text/plain": [
       "0       aplle\n",
       "1      banana\n",
       "2    pinapple\n",
       "dtype: object"
      ]
     },
     "execution_count": 22,
     "metadata": {},
     "output_type": "execute_result"
    }
   ],
   "source": [
    "any_ser.str.replace(';','').str.strip()"
   ]
  },
  {
   "cell_type": "code",
   "execution_count": null,
   "id": "550dd618",
   "metadata": {},
   "outputs": [],
   "source": []
  }
 ],
 "metadata": {
  "kernelspec": {
   "display_name": "Python 3 (ipykernel)",
   "language": "python",
   "name": "python3"
  },
  "language_info": {
   "codemirror_mode": {
    "name": "ipython",
    "version": 3
   },
   "file_extension": ".py",
   "mimetype": "text/x-python",
   "name": "python",
   "nbconvert_exporter": "python",
   "pygments_lexer": "ipython3",
   "version": "3.9.7"
  }
 },
 "nbformat": 4,
 "nbformat_minor": 5
}
